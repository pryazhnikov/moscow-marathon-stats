{
 "cells": [
  {
   "cell_type": "code",
   "execution_count": 37,
   "metadata": {
    "collapsed": false
   },
   "outputs": [],
   "source": [
    "import pandas as pd\n",
    "import numpy as np\n",
    "df = pd.read_csv('data/all_results.csv')"
   ]
  },
  {
   "cell_type": "code",
   "execution_count": 38,
   "metadata": {
    "collapsed": false
   },
   "outputs": [
    {
     "data": {
      "text/plain": [
       "{'total_items': 7090, 'unique_items': 3367}"
      ]
     },
     "execution_count": 38,
     "metadata": {},
     "output_type": "execute_result"
    }
   ],
   "source": [
    "team_names = df['team'].dropna()\n",
    "unique_team_names = team_names.unique()\n",
    "{'total_items': len(team_names), 'unique_items': len(unique_team_names)}"
   ]
  },
  {
   "cell_type": "code",
   "execution_count": 39,
   "metadata": {
    "collapsed": false
   },
   "outputs": [
    {
     "data": {
      "text/plain": [
       "{'total_items': 6846, 'unique_items': 3042}"
      ]
     },
     "execution_count": 39,
     "metadata": {},
     "output_type": "execute_result"
    }
   ],
   "source": [
    "# Normalized team names stats\n",
    "normalized_team_names = df['teamNormalized'].dropna()\n",
    "unique_normalized_team_names = normalized_team_names.unique()\n",
    "{'total_items': len(normalized_team_names), 'unique_items': len(unique_normalized_team_names)}"
   ]
  },
  {
   "cell_type": "code",
   "execution_count": 41,
   "metadata": {
    "collapsed": false
   },
   "outputs": [
    {
     "data": {
      "text/plain": [
       "I love running          96\n",
       "нет                     74\n",
       "Парсек                  72\n",
       "IRC                     69\n",
       "I LOVE RUNNING          66\n",
       "I Love Running          65\n",
       "42TRIP                  62\n",
       "лично                   53\n",
       "Trilife                 50\n",
       "БИМ                     49\n",
       "21runners               48\n",
       "Nike+                   45\n",
       "RRUNS                   42\n",
       "КЛБ                     37\n",
       "University Lyon 1       37\n",
       "0                       34\n",
       "Сенеж                   32\n",
       "Трилайф                 32\n",
       "Urbani tekaci           32\n",
       "Тихоходы                31\n",
       "-                       31\n",
       "adidas Boost team       30\n",
       "Iloverunning            29\n",
       "Moskva River Runners    28\n",
       "Факел                   27\n",
       "dtype: int64"
      ]
     },
     "execution_count": 41,
     "metadata": {},
     "output_type": "execute_result"
    }
   ],
   "source": [
    "# Raw team name values (top values only)\n",
    "team_names.groupby(team_names.values).count().sort_values(ascending=False).head(25)"
   ]
  },
  {
   "cell_type": "code",
   "execution_count": 42,
   "metadata": {
    "collapsed": false
   },
   "outputs": [
    {
     "name": "stdout",
     "output_type": "stream",
     "text": [
      "23\n"
     ]
    },
    {
     "data": {
      "text/plain": [
       "array(['Московский Институт Физической Культуры и Спорта',\n",
       "       'Московский Беговой Клуб', 'Московский беговой клуб',\n",
       "       'Московский Беговой клуб', 'московский беговой клуб'], dtype=object)"
      ]
     },
     "execution_count": 42,
     "metadata": {},
     "output_type": "execute_result"
    }
   ],
   "source": [
    "# Team filters debugging\n",
    "filtered = team_names[team_names.str.lower().str.contains('московский')]\n",
    "\n",
    "print(len(filtered))\n",
    "filtered.unique()"
   ]
  },
  {
   "cell_type": "code",
   "execution_count": 43,
   "metadata": {
    "collapsed": false
   },
   "outputs": [
    {
     "data": {
      "text/plain": [
       "name\n",
       "I love running    383\n",
       "Adidas            202\n",
       "Трилайф           148\n",
       "Nike+             116\n",
       "Парсек             93\n",
       "21runners          80\n",
       "БИМ                78\n",
       "IRC                72\n",
       "World class        71\n",
       "42Trip             69\n",
       "dtype: int64"
      ]
     },
     "execution_count": 43,
     "metadata": {},
     "output_type": "execute_result"
    }
   ],
   "source": [
    "# Team filters\n",
    "team_name_filter = team_names.str.replace(' ', '').str.lower()\n",
    "team_filters_list = [\n",
    "    ('I love running', team_name_filter.str.startswith('ilover') | team_name_filter.str.startswith('ilr')),\n",
    "    ('Adidas', team_name_filter.str.contains('adidas') | team_name_filter.str.contains('адидас')),\n",
    "    ('Трилайф', team_name_filter.str.contains('trilife') | team_name_filter.str.contains('трилайф')),\n",
    "    ('МГУ', team_name_filter.str.contains('мгу') & (team_name_filter != 'самгу')),\n",
    "    ('World class', team_name_filter.str.contains('world') & team_name_filter.str.contains('class')),\n",
    "    ('Orange Polska', team_name_filter.str.contains('orange') & team_name_filter.str.contains('polska')),\n",
    "    ('Gorky park runners', team_name_filter.str.contains('gorky') & team_name_filter.str.contains('park')),\n",
    "    ('Run studio', team_name_filter.str.contains('runstudio')),\n",
    "    ('Running expert', team_name_filter.str.contains('expert') & team_name_filter.str.contains('run')),\n",
    "    ('Гепард', team_name_filter.str.contains('gepard') | team_name_filter.str.contains('гепард')),\n",
    "    ('Moskvariverrunners', team_name_filter.str.contains('river') & team_name_filter.str.contains('run')),\n",
    "    ('21runners', team_name_filter.str.contains('21') & team_name_filter.str.contains('runners')),\n",
    "    ('Парсек', team_name_filter.str.contains('parsek') | team_name_filter.str.contains('парсек')),\n",
    "    ('Girl&Sole', team_name_filter.str.contains('girl') & team_name_filter.str.contains('sole')),\n",
    "    ('42Trip', team_name_filter.str.contains('42trip')),\n",
    "    ('42km.ru', team_name_filter.str.contains('42км.ru') | team_name_filter.str.contains('42km.ru')),\n",
    "    ('Nike+', team_name_filter.str.contains('nike') & (team_name_filter.str.contains('\\+') | team_name_filter.str.contains('plus'))),\n",
    "    ('Nike+', team_name_filter.str.contains('найк')),\n",
    "    ('Лыжный клуб Измайлово', team_name_filter.str.contains('измайлово') & (team_name_filter.str.contains('лыжный') | team_name_filter.str.contains('лк'))),\n",
    "    ('Московский беговой клуб', team_name_filter.str.contains('московскийбеговойклуб')),\n",
    "    ('EY', team_name_filter.str.startswith('ey')),\n",
    "    ('IRC', team_name_filter.str.startswith('irc')),\n",
    "    ('БИМ', team_name_filter.str.startswith('бим')),\n",
    "    ('Факел', team_name_filter.str.startswith('факел')),\n",
    "    ('Энергия', team_name_filter.str.startswith('энергия')),\n",
    "    ('Сенеж', team_name_filter.str.startswith('сенеж')),\n",
    "    \n",
    "    (np.nan, (team_name_filter == '') | (team_name_filter == 'лично') | (team_name_filter == 'нет')),\n",
    "    (np.nan, (team_name_filter == '-') | (team_name_filter == '0')),\n",
    "]\n",
    "\n",
    "non_filtered_names = team_names.copy()\n",
    "names_copy = team_names.copy()\n",
    "for team_name, team_filter in team_filters_list:\n",
    "    names_copy[team_filter] = team_name\n",
    "    non_filtered_names[team_filter] = np.nan\n",
    "\n",
    "df = pd.DataFrame({'name' : names_copy})\n",
    "df.groupby(['name']).size().rename({'1' : 'count'}).sort_values(ascending=False).head(10)"
   ]
  },
  {
   "cell_type": "code",
   "execution_count": 47,
   "metadata": {
    "collapsed": false
   },
   "outputs": [
    {
     "data": {
      "text/plain": [
       "RRUNS                42\n",
       "University Lyon 1    37\n",
       "КЛБ                  37\n",
       "Urbani tekaci        32\n",
       "Тихоходы             31\n",
       "Динамо               22\n",
       "Строительный двор    22\n",
       "МФТИ                 20\n",
       "Новотор              19\n",
       "СК                   17\n",
       "Velo36               16\n",
       "КЛЭБ                 16\n",
       "RunLepraRun          16\n",
       "Айвика               15\n",
       "Мещера               15\n",
       "No Tag Runners       15\n",
       "Сокол                15\n",
       "Wake&Run             15\n",
       "Аэробия              14\n",
       "Piranha              14\n",
       "СК Ромашково         14\n",
       "Мир                  13\n",
       "Меркурий             13\n",
       "Galaxy               12\n",
       "МАИ                  11\n",
       "Крылатый батальон    10\n",
       "Сормович             10\n",
       "Seibukai             10\n",
       "MOEXRUN              10\n",
       "НэО                  10\n",
       "Стимул               10\n",
       "dtype: int64"
      ]
     },
     "execution_count": 47,
     "metadata": {},
     "output_type": "execute_result"
    }
   ],
   "source": [
    "# Non filtered team names\n",
    "# Maybe it's a source for new filters\n",
    "non_filtered_name_counts = non_filtered_names.groupby(non_filtered_names.values).count().sort_values(ascending=False)\n",
    "non_filtered_name_counts[non_filtered_name_counts >= 10]"
   ]
  },
  {
   "cell_type": "code",
   "execution_count": null,
   "metadata": {
    "collapsed": true
   },
   "outputs": [],
   "source": []
  }
 ],
 "metadata": {
  "kernelspec": {
   "display_name": "Python 3",
   "language": "python",
   "name": "python3"
  },
  "language_info": {
   "codemirror_mode": {
    "name": "ipython",
    "version": 3
   },
   "file_extension": ".py",
   "mimetype": "text/x-python",
   "name": "python",
   "nbconvert_exporter": "python",
   "pygments_lexer": "ipython3",
   "version": "3.5.0"
  }
 },
 "nbformat": 4,
 "nbformat_minor": 2
}
