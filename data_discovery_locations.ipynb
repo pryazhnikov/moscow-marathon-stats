{
 "cells": [
  {
   "cell_type": "markdown",
   "metadata": {},
   "source": [
    "# Locations Data Discovery"
   ]
  },
  {
   "cell_type": "code",
   "execution_count": 30,
   "metadata": {
    "collapsed": true
   },
   "outputs": [],
   "source": [
    "import pandas as pd\n",
    "import numpy as np\n",
    "df = pd.read_csv('data/all_results.csv')"
   ]
  },
  {
   "cell_type": "markdown",
   "metadata": {},
   "source": [
    "## Countries"
   ]
  },
  {
   "cell_type": "code",
   "execution_count": 31,
   "metadata": {
    "collapsed": false
   },
   "outputs": [
    {
     "data": {
      "text/plain": [
       "Россия                           19027\n",
       "Франция                            144\n",
       "Беларусь                           111\n",
       "Германия                            90\n",
       "Украина                             89\n",
       "Великобритания                      87\n",
       "Нидерланды                          72\n",
       "Китай                               70\n",
       "Польша                              68\n",
       "Гонконг                             67\n",
       "Япония                              47\n",
       "США                                 45\n",
       "Казахстан                           40\n",
       "Италия                              39\n",
       "Испания                             33\n",
       "Словения                            29\n",
       "Швеция                              27\n",
       "Хорватия                            22\n",
       "Австрия                             22\n",
       "Мексика                             21\n",
       "Латвия                              18\n",
       "Бразилия                            17\n",
       "Эстония                             16\n",
       "Турция                              15\n",
       "Израиль                             14\n",
       "Молдова                             14\n",
       "Швейцария                           14\n",
       "Бельгия                             13\n",
       "Австралия                           13\n",
       "Узбекистан                          13\n",
       "                                 ...  \n",
       "Чили                                 2\n",
       "Poland                               2\n",
       "Таджикистан                          2\n",
       "Spain                                2\n",
       "United Kingdom                       2\n",
       "Аргентина                            2\n",
       "Belgium                              2\n",
       "Малайзия                             2\n",
       "Новая Зеландия                       1\n",
       "Эфиопия                              1\n",
       "Brazil                               1\n",
       "Germany                              1\n",
       "Greece                               1\n",
       "Ямайка                               1\n",
       "Italy                                1\n",
       "Japan                                1\n",
       "Колумбия                             1\n",
       "Коста-Рика                           1\n",
       "Norway                               1\n",
       "Гватемала                            1\n",
       "Армения                              1\n",
       "Вьетнам                              1\n",
       "Венесуэла                            1\n",
       "ЮАР                                  1\n",
       "Сирийская Арабская Республика        1\n",
       "Мальта                               1\n",
       "Кипр                                 1\n",
       "Аландскиеострова                     1\n",
       "Эквадор                              1\n",
       "Остров Доминика                      1\n",
       "Name: country, Length: 92, dtype: int64"
      ]
     },
     "execution_count": 31,
     "metadata": {},
     "output_type": "execute_result"
    }
   ],
   "source": [
    "non_empty_countries = df['country'].dropna()\n",
    "non_empty_countries.groupby(non_empty_countries.values).count().sort_values(ascending=False)"
   ]
  },
  {
   "cell_type": "markdown",
   "metadata": {},
   "source": [
    "## Cities summary"
   ]
  },
  {
   "cell_type": "code",
   "execution_count": 32,
   "metadata": {
    "collapsed": false
   },
   "outputs": [
    {
     "data": {
      "text/plain": [
       "0                 Москва\n",
       "2                  Киров\n",
       "4                Сен-Клу\n",
       "5                   Киев\n",
       "16       Санкт-Петербург\n",
       "18             Хабаровск\n",
       "22                Калуга\n",
       "23       Нижний Новгород\n",
       "24             Жуковский\n",
       "25               Люберцы\n",
       "27                 Минск\n",
       "28            Чайковский\n",
       "34                Кашира\n",
       "36                Липецк\n",
       "37               Королев\n",
       "41         Сергиев Посад\n",
       "53              Одинцово\n",
       "55              Подольск\n",
       "60               Саратов\n",
       "62                 Париж\n",
       "67                 Дубна\n",
       "71                  None\n",
       "72             Роттердам\n",
       "75            Зеленоград\n",
       "85                Мытищи\n",
       "96             Ульяновск\n",
       "99              Бронницы\n",
       "104                Тверь\n",
       "105               Ковров\n",
       "108              Кубинка\n",
       "              ...       \n",
       "19245         Вила-Велья\n",
       "19254              Асино\n",
       "19302             Кстово\n",
       "19304            Луганск\n",
       "19398               Слау\n",
       "19417           Бристоль\n",
       "19422            Ниигата\n",
       "19456             Гаосюн\n",
       "19466          Винчестер\n",
       "19513        Нефтеюганск\n",
       "19631            Пльзень\n",
       "19644              Будва\n",
       "19759           Куритиба\n",
       "19815               Ньор\n",
       "19832           Катовице\n",
       "19850               Бери\n",
       "19993          Монтеррей\n",
       "19994         Краматорск\n",
       "20019           Ковентри\n",
       "20131               Роли\n",
       "20142            Дербент\n",
       "20184        Миннеаполис\n",
       "20263             Фирзен\n",
       "20326            Венеция\n",
       "20332              Целле\n",
       "20337        Алькобендас\n",
       "20347             Берген\n",
       "20389           Kumamoto\n",
       "20401           Салоники\n",
       "20472              Озеры\n",
       "Name: city, Length: 818, dtype: object"
      ]
     },
     "execution_count": 32,
     "metadata": {},
     "output_type": "execute_result"
    }
   ],
   "source": [
    "city_series = df['city'].dropna().drop_duplicates(keep='first')\n",
    "city_series"
   ]
  },
  {
   "cell_type": "markdown",
   "metadata": {},
   "source": [
    "## Number of words in city names"
   ]
  },
  {
   "cell_type": "code",
   "execution_count": 33,
   "metadata": {
    "collapsed": false
   },
   "outputs": [
    {
     "data": {
      "text/plain": [
       "1    727\n",
       "2     75\n",
       "3     13\n",
       "4      3\n",
       "dtype: int64"
      ]
     },
     "execution_count": 33,
     "metadata": {},
     "output_type": "execute_result"
    }
   ],
   "source": [
    "import re\n",
    "\n",
    "def get_num_words(name):\n",
    "    name_words = re.split(r'[\\s-]+', name)\n",
    "    return len(name_words)\n",
    "    \n",
    "city_words_count_series = pd.Series(city_series.map(get_num_words).values, city_series.values)\n",
    "city_words_count_series.groupby(city_words_count_series.values).count()\n"
   ]
  },
  {
   "cell_type": "markdown",
   "metadata": {},
   "source": [
    "## Long city names"
   ]
  },
  {
   "cell_type": "code",
   "execution_count": 34,
   "metadata": {
    "collapsed": false
   },
   "outputs": [
    {
     "data": {
      "text/plain": [
       "Ростов-на-Дону              3\n",
       "Франкфурт-на-Майне          3\n",
       "Санта-Колома-де-Граманет    4\n",
       "Экс-ле-Бен                  3\n",
       "Аньер-сюр-Сен               3\n",
       "Рио-де-Жанейро              3\n",
       "Welwyn Garden City          3\n",
       "Монтиньи-ле-Бретонне        3\n",
       "Миранда-де-Эбро             3\n",
       "San Juan del Río            4\n",
       "Комсомольск-на-Амуре        3\n",
       "Биберах-на-Рисе             3\n",
       "Оахака-де-Хуарес            3\n",
       "Francavilla al Mare         3\n",
       "Вила-Нова-де-Гайя           4\n",
       "Нёйи-сюр-Сен                3\n",
       "dtype: int64"
      ]
     },
     "execution_count": 34,
     "metadata": {},
     "output_type": "execute_result"
    }
   ],
   "source": [
    "city_words_count_series[city_words_count_series > 2]"
   ]
  },
  {
   "cell_type": "code",
   "execution_count": null,
   "metadata": {
    "collapsed": true
   },
   "outputs": [],
   "source": []
  }
 ],
 "metadata": {
  "kernelspec": {
   "display_name": "Python 3",
   "language": "python",
   "name": "python3"
  },
  "language_info": {
   "codemirror_mode": {
    "name": "ipython",
    "version": 3
   },
   "file_extension": ".py",
   "mimetype": "text/x-python",
   "name": "python",
   "nbconvert_exporter": "python",
   "pygments_lexer": "ipython3",
   "version": "3.5.0"
  }
 },
 "nbformat": 4,
 "nbformat_minor": 2
}
