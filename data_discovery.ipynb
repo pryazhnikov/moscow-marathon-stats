{
 "cells": [
  {
   "cell_type": "code",
   "execution_count": 77,
   "metadata": {
    "collapsed": false
   },
   "outputs": [],
   "source": [
    "import pandas as pd\n",
    "import numpy as np"
   ]
  },
  {
   "cell_type": "code",
   "execution_count": 111,
   "metadata": {
    "collapsed": false
   },
   "outputs": [
    {
     "data": {
      "text/plain": [
       "year  gender\n",
       "2013  Female     282\n",
       "      Male      2084\n",
       "2014  Female     594\n",
       "      Male      3665\n",
       "2015  Female    1004\n",
       "      Male      4902\n",
       "2016  Female    1293\n",
       "      Male      6864\n",
       "dtype: int64"
      ]
     },
     "execution_count": 111,
     "metadata": {},
     "output_type": "execute_result"
    }
   ],
   "source": [
    "df = pd.read_csv('data/all_results.csv', parse_dates=True)\n",
    "\n",
    "def getResultTimeInSeconds(result_time):\n",
    "    delta = pd.to_timedelta(result_time)\n",
    "    if pd.isnull(delta):\n",
    "        return np.nan\n",
    "    else:\n",
    "        return delta.seconds\n",
    "\n",
    "df['resultTimeSec'] = df['resultTime'].map(getResultTimeInSeconds)\n",
    "\n",
    "df[['year', 'gender', 'resultTime']].groupby(['year', 'gender']).size()"
   ]
  },
  {
   "cell_type": "code",
   "execution_count": 324,
   "metadata": {
    "collapsed": false
   },
   "outputs": [
    {
     "data": {
      "text/html": [
       "<div>\n",
       "<table border=\"1\" class=\"dataframe\">\n",
       "  <thead>\n",
       "    <tr style=\"text-align: right;\">\n",
       "      <th></th>\n",
       "      <th>year</th>\n",
       "      <th>gender</th>\n",
       "      <th>status</th>\n",
       "      <th>resultTime</th>\n",
       "      <th>genderPosition</th>\n",
       "      <th>country</th>\n",
       "      <th>city</th>\n",
       "      <th>team</th>\n",
       "      <th>resultTimeSec</th>\n",
       "    </tr>\n",
       "  </thead>\n",
       "  <tbody>\n",
       "    <tr>\n",
       "      <th>13824</th>\n",
       "      <td>2016</td>\n",
       "      <td>Male</td>\n",
       "      <td>Finished</td>\n",
       "      <td>2:13:40</td>\n",
       "      <td>1.0</td>\n",
       "      <td>Россия</td>\n",
       "      <td>Уфа</td>\n",
       "      <td>NaN</td>\n",
       "      <td>8020.0</td>\n",
       "    </tr>\n",
       "    <tr>\n",
       "      <th>20426</th>\n",
       "      <td>2016</td>\n",
       "      <td>Male</td>\n",
       "      <td>Finished</td>\n",
       "      <td>6:39:09</td>\n",
       "      <td>6603.0</td>\n",
       "      <td>Россия</td>\n",
       "      <td>Москва</td>\n",
       "      <td>Мисцево</td>\n",
       "      <td>23949.0</td>\n",
       "    </tr>\n",
       "  </tbody>\n",
       "</table>\n",
       "</div>"
      ],
      "text/plain": [
       "       year gender    status resultTime  genderPosition  country    city  \\\n",
       "13824  2016   Male  Finished    2:13:40             1.0   Россия     Уфа   \n",
       "20426  2016   Male  Finished    6:39:09          6603.0   Россия  Москва   \n",
       "\n",
       "          team  resultTimeSec  \n",
       "13824      NaN         8020.0  \n",
       "20426  Мисцево        23949.0  "
      ]
     },
     "execution_count": 324,
     "metadata": {},
     "output_type": "execute_result"
    }
   ],
   "source": [
    "df[ df['resultTimeSec'].isin([df['resultTimeSec'].max(), df['resultTimeSec'].min()]) ]"
   ]
  },
  {
   "cell_type": "code",
   "execution_count": 325,
   "metadata": {
    "collapsed": false
   },
   "outputs": [
    {
     "data": {
      "text/plain": [
       "year\n",
       "2013    2084\n",
       "2014    3665\n",
       "2015    4902\n",
       "2016    6864\n",
       "dtype: int64"
      ]
     },
     "execution_count": 325,
     "metadata": {},
     "output_type": "execute_result"
    }
   ],
   "source": [
    "by_year_count_df = {}\n",
    "for gender in ['Male', 'Female']:\n",
    "    gender_df = df[ df['gender'] == gender ]\n",
    "    by_year_count_df[gender] = gender_df.groupby('year').size()\n",
    "    \n",
    "years_list = by_year_count_df['Male'].index\n",
    "\n",
    "by_year_count_df['Male']"
   ]
  },
  {
   "cell_type": "code",
   "execution_count": 331,
   "metadata": {
    "collapsed": false
   },
   "outputs": [
    {
     "name": "stdout",
     "output_type": "stream",
     "text": [
      "Warning: Cannot change to a different GUI toolkit: notebook. Using osx instead.\n"
     ]
    }
   ],
   "source": [
    "%matplotlib notebook\n",
    "import matplotlib.pyplot as plt\n",
    "import datetime\n",
    "import matplotlib.gridspec as gridspec\n",
    "\n",
    "# Common chart settings\n",
    "font_size_subplots_title = 10\n",
    "labels_text_alpha = 0.6\n",
    "item_width = .25\n",
    "item_offset = .15\n",
    "# Color names: http://matplotlib.org/2.0.0b3/examples/color/named_colors.html\n",
    "data_color_male = 'royalblue'\n",
    "data_color_female = 'deeppink'\n",
    "\n",
    "# Layout settings\n",
    "plt.figure(figsize=(10, 6))\n",
    "\n",
    "years_index = np.arange(1, len(years) + 1)\n",
    "\n",
    "# Total runners count\n",
    "ax1 = plt.subplot(2, 1, 1)\n",
    "plt.title(\"Total number of runners\", fontsize=font_size_subplots_title)\n",
    "\n",
    "plt.xticks(years_index, years_list.values, alpha=labels_text_alpha)\n",
    "ax1.legend(['Males', 'Females'], frameon=False)\n",
    "\n",
    "male_count_bars = plt.bar(years_index - item_offset, height=by_year_count_df['Male'], width=item_width, color=data_color_male)\n",
    "female_count_bars = plt.bar(years_index + item_offset, height=by_year_count_df['Female'], width=item_width, color=data_color_female)\n",
    "for bar in male_count_bars + female_count_bars:\n",
    "    bar_value = bar.get_height()\n",
    "    bar_text = str(int(bar_value))\n",
    "    text_x = bar.get_x() + bar.get_width() / 2\n",
    "    text_y = bar_value\n",
    "    ax1.text(text_x, text_y, bar_text,\n",
    "             ha='center', fontsize=10, color='black', alpha=labels_text_alpha)\n",
    "\n",
    "plt.tick_params(top='off', bottom='off', left='off', right='off', labelleft='off', labelbottom='on')\n",
    "for spine in ax1.spines.values():\n",
    "    spine.set_visible(False)\n",
    "\n",
    "# Time percentiles\n",
    "ax2 = plt.subplot(2, 1, 2, sharex=ax1)\n",
    "plt.title(\"Finish time distribution\")\n",
    "\n",
    "by_years_speed = {'Male': [], 'Female': []}\n",
    "for year in years_list:\n",
    "    for gender in ['Male', 'Female']:\n",
    "        times_df = df[ ~df['resultTimeSec'].isnull() & (df['year'] == year) & (df['gender'] == gender) ]\n",
    "        by_years_speed[gender].append(times_df['resultTimeSec'])\n",
    "\n",
    "plt.title(\"Finish time distribution\", fontsize=font_size_subplots_title)\n",
    "plt.ylim(2 * 60 * 60, 7 * 60 * 60)\n",
    "plt.boxplot(by_years_speed['Male'], whis='range', widths=item_width, positions=(years_index - item_offset))\n",
    "plt.boxplot(by_years_speed['Female'], whis='range', widths=item_width, positions=(years_index + item_offset))\n",
    "\n",
    "# Year ticks\n",
    "plt.xticks(years_index, years_list.values, alpha=labels_text_alpha)\n",
    "\n",
    "# Proper times ticks\n",
    "time_values = np.arange(2 * 60 * 60, 7 * 60 * 60 + 1, 30 * 60)\n",
    "time_labels = []\n",
    "for value in time_values:\n",
    "    dt = datetime.datetime.fromtimestamp(value, tz=datetime.timezone.utc)\n",
    "    time_labels.append(dt.strftime('%H:%M'))\n",
    "\n",
    "ax2.set_yticks(time_values)\n",
    "ax2.set_yticklabels(time_labels)\n",
    "\n",
    "plt.tick_params(top='off', bottom='off', left='on', right='off', labelleft='on', labelbottom='on')\n",
    "ax2.spines['top'].set_visible(False)\n",
    "ax2.spines['right'].set_visible(False)\n"
   ]
  },
  {
   "cell_type": "code",
   "execution_count": null,
   "metadata": {
    "collapsed": true
   },
   "outputs": [],
   "source": []
  },
  {
   "cell_type": "code",
   "execution_count": null,
   "metadata": {
    "collapsed": true
   },
   "outputs": [],
   "source": []
  }
 ],
 "metadata": {
  "kernelspec": {
   "display_name": "Python 3",
   "language": "python",
   "name": "python3"
  },
  "language_info": {
   "codemirror_mode": {
    "name": "ipython",
    "version": 3
   },
   "file_extension": ".py",
   "mimetype": "text/x-python",
   "name": "python",
   "nbconvert_exporter": "python",
   "pygments_lexer": "ipython3",
   "version": "3.5.0"
  }
 },
 "nbformat": 4,
 "nbformat_minor": 2
}
